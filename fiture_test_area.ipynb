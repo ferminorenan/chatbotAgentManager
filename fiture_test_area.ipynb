{
 "cells": [
  {
   "cell_type": "code",
   "execution_count": null,
   "metadata": {},
   "outputs": [
    {
     "ename": "",
     "evalue": "",
     "output_type": "error",
     "traceback": [
      "\u001b[1;31mFailed to start the Kernel. \n",
      "\u001b[1;31mBad file descriptor (C:\\Users\\runneradmin\\AppData\\Local\\Temp\\tmpw8fxpxar\\build\\_deps\\bundled_libzmq-src\\src\\epoll.cpp:73). \n",
      "\u001b[1;31mView Jupyter <a href='command:jupyter.viewOutput'>log</a> for further details."
     ]
    }
   ],
   "source": [
    "import tensorflow as tf\n",
    "import numpy as np\n",
    "\n",
    "# Defina os dados de treinamento\n",
    "inputs = ['Qual é o seu nome?', 'Como posso te chamar?', 'Por favor, diga-me seu nome.']\n",
    "outputs = ['Meu nome é ', 'Você pode me chamar de ', 'Chame-me de ']\n",
    "\n",
    "# Tokenize os dados de entrada e saída\n",
    "tokenizer = tf.keras.preprocessing.text.Tokenizer(filters='')\n",
    "tokenizer.fit_on_texts(inputs + outputs)\n",
    "vocab_size = len(tokenizer.word_index) + 1\n",
    "\n",
    "# Converta as sequências de texto em sequências de números\n",
    "inputs_sequences = tokenizer.texts_to_sequences(inputs)\n",
    "outputs_sequences = tokenizer.texts_to_sequences(outputs)\n",
    "\n",
    "# Pad os sequências para terem o mesmo comprimento\n",
    "max_length = max(len(seq) for seq in inputs_sequences + outputs_sequences)\n",
    "inputs_sequences = tf.keras.preprocessing.sequence.pad_sequences(inputs_sequences, maxlen=max_length, padding='post')\n",
    "outputs_sequences = tf.keras.preprocessing.sequence.pad_sequences(outputs_sequences, maxlen=max_length, padding='post')\n",
    "\n",
    "# Crie o modelo de chatbot\n",
    "embedding_dim = 256\n",
    "units = 1024\n",
    "\n",
    "# Codificador\n",
    "encoder_inputs = tf.keras.layers.Input(shape=(None,))\n",
    "encoder_embedding = tf.keras.layers.Embedding(vocab_size, embedding_dim, mask_zero=True)(encoder_inputs)\n",
    "encoder_lstm = tf.keras.layers.LSTM(units, return_state=True)\n",
    "encoder_outputs, state_h, state_c = encoder_lstm(encoder_embedding)\n",
    "encoder_states = [state_h, state_c]\n",
    "\n",
    "# Decodificador\n",
    "decoder_inputs = tf.keras.layers.Input(shape=(None,))\n",
    "decoder_embedding = tf.keras.layers.Embedding(vocab_size, embedding_dim, mask_zero=True)(decoder_inputs)\n",
    "decoder_lstm = tf.keras.layers.LSTM(units, return_sequences=True, return_state=True)\n",
    "decoder_outputs, _, _ = decoder_lstm(decoder_embedding, initial_state=encoder_states)\n",
    "decoder_dense = tf.keras.layers.Dense(vocab_size, activation='softmax')\n",
    "decoder_outputs = decoder_dense(decoder_outputs)\n",
    "\n",
    "# Modelo final\n",
    "model = tf.keras.models.Model([encoder_inputs, decoder_inputs], decoder_outputs)\n",
    "\n",
    "# Compile o modelo\n",
    "model.compile(optimizer='adam', loss='sparse_categorical_crossentropy')\n",
    "\n",
    "# Treine o modelo\n",
    "model.fit([inputs_sequences, outputs_sequences[:, :-1]], outputs_sequences[:, 1:], batch_size=64, epochs=50)\n",
    "\n",
    "# Função para conversar com o chatbot\n",
    "def chat():\n",
    "    while True:\n",
    "        # Obter a entrada do usuário\n",
    "        user_input = input(\"Você: \")\n",
    "        \n",
    "        # Converter a entrada do usuário em sequência de números\n",
    "        input_seq = tokenizer.texts_to_sequences([user_input])\n",
    "        input_seq = tf.keras.preprocessing.sequence.pad_sequences(input_seq, maxlen=max_length, padding='post')\n",
    "        \n",
    "        # Obter a resposta do modelo\n",
    "        predicted_output = model.predict([input_seq, np.zeros((1, max_length))])\n",
    "        \n",
    "        # Converter a saída predita em texto\n",
    "        predicted_output = np.argmax(predicted_output, axis=-1)\n",
    "        predicted_output = [tokenizer.index_word[idx] for idx in predicted_output[0] if idx != 0]\n",
    "        response = ' '.join(predicted_output)\n",
    "        \n",
    "        # Exibir a resposta do chatbot\n",
    "        print(\"Chatbot:\", response)\n",
    "\n",
    "# Iniciar a conversa com o chatbot\n",
    "chat()\n"
   ]
  }
 ],
 "metadata": {
  "kernelspec": {
   "display_name": "venv",
   "language": "python",
   "name": "python3"
  },
  "language_info": {
   "name": "python",
   "version": "3.11.9"
  }
 },
 "nbformat": 4,
 "nbformat_minor": 2
}
